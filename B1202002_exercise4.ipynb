{
  "nbformat": 4,
  "nbformat_minor": 0,
  "metadata": {
    "colab": {
      "provenance": []
    },
    "kernelspec": {
      "name": "python3",
      "display_name": "Python 3"
    },
    "language_info": {
      "name": "python"
    }
  },
  "cells": [
    {
      "cell_type": "code",
      "execution_count": 12,
      "metadata": {
        "colab": {
          "base_uri": "https://localhost:8080/"
        },
        "id": "T7IB3SBChIf7",
        "outputId": "2a873127-c6eb-47df-a4a6-3aa18c304a73"
      },
      "outputs": [
        {
          "output_type": "stream",
          "name": "stdout",
          "text": [
            "請輸入身高（公分）：155\n",
            "請輸入體重（公斤）：52\n",
            "BMI: 21.64412070759625\n",
            "體位:適中\n"
          ]
        }
      ],
      "source": [
        "a=int(input('請輸入身高（公分）：'))\n",
        "b=a/100\n",
        "c=int(input('請輸入體重（公斤）：'))\n",
        "d=b**2\n",
        "e=c/d\n",
        "print('BMI:',e)\n",
        "if e>=27:\n",
        "  print('體位:肥胖')\n",
        "elif 24<=e and e<27:\n",
        "  print('體位:過重')\n",
        "elif 18.5<=e and e<24:\n",
        "  print('體位:適中')\n",
        "else:\n",
        "  print('體位:過輕')\n"
      ]
    },
    {
      "cell_type": "code",
      "source": [
        "a=int(input('請輸入第一個數字：'))\n",
        "x=input('請輸入運算符號：')\n",
        "b=int(input('請輸入第二個數字：'))\n",
        "\n",
        "if x=='+':\n",
        "  print(a+b)\n",
        "elif x=='-':\n",
        "  print(a-b)\n",
        "elif x=='*':\n",
        "  print(a*b)\n",
        "elif x=='/':\n",
        "  print(a/b)\n",
        "else:\n",
        "  print('請重新輸入')"
      ],
      "metadata": {
        "colab": {
          "base_uri": "https://localhost:8080/"
        },
        "id": "hYwD1uD_mw8z",
        "outputId": "d540a428-b324-49fe-9e6b-ca3e698f4bb1"
      },
      "execution_count": 21,
      "outputs": [
        {
          "output_type": "stream",
          "name": "stdout",
          "text": [
            "請輸入第一個數字：99\n",
            "請輸入運算符號：+\n",
            "請輸入第二個數字：1\n",
            "100\n"
          ]
        }
      ]
    }
  ]
}