{
  "nbformat": 4,
  "nbformat_minor": 0,
  "metadata": {
    "colab": {
      "provenance": []
    },
    "kernelspec": {
      "name": "python3",
      "display_name": "Python 3"
    },
    "language_info": {
      "name": "python"
    }
  },
  "cells": [
    {
      "cell_type": "code",
      "execution_count": 17,
      "metadata": {
        "id": "aUMFSzXdqqgm",
        "colab": {
          "base_uri": "https://localhost:8080/"
        },
        "outputId": "6016a723-9640-4111-daae-7292f0e11cdf"
      },
      "outputs": [
        {
          "output_type": "stream",
          "name": "stdout",
          "text": [
            "請輸入西元年分：3000\n",
            "西元 3000 年為平年\n"
          ]
        }
      ],
      "source": [
        "a=int(input('請輸入西元年分：'))\n",
        "if a<=1582:\n",
        "  if a%4==0:\n",
        "    print('西元',a,'年為閏年')\n",
        "  else:\n",
        "    print('西元',a,'年為平年')\n",
        "else:\n",
        "  if a%100==0:\n",
        "    if a%400==0:\n",
        "      print('西元',a,'年為閏年')\n",
        "    else:\n",
        "      print('西元',a,'年為平年')\n",
        "  elif a%4==0:\n",
        "    print('西元',a,'年為閏年')\n",
        "  else:\n",
        "    print('西元',a,'年為平年')"
      ]
    }
  ]
}